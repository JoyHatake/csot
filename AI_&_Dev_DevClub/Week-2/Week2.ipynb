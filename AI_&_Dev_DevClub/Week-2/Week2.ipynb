{
  "nbformat": 4,
  "nbformat_minor": 0,
  "metadata": {
    "colab": {
      "provenance": []
    },
    "kernelspec": {
      "name": "python3",
      "display_name": "Python 3"
    },
    "language_info": {
      "name": "python"
    }
  },
  "cells": [
    {
      "cell_type": "code",
      "execution_count": 33,
      "metadata": {
        "id": "1h-Fs1SEvlIT"
      },
      "outputs": [],
      "source": [
        "import pandas as pd\n",
        "import numpy as np"
      ]
    },
    {
      "cell_type": "code",
      "source": [
        "df = pd.read_csv(\"/content/drive/MyDrive/Colab Notebooks/cleaned_data_week1.csv\")"
      ],
      "metadata": {
        "id": "mBI4rGwHwEWN"
      },
      "execution_count": 34,
      "outputs": []
    },
    {
      "cell_type": "code",
      "source": [
        "from textblob import TextBlob"
      ],
      "metadata": {
        "id": "Z2SzMN4lwH2D"
      },
      "execution_count": 35,
      "outputs": []
    },
    {
      "cell_type": "code",
      "source": [
        "df['sentiment'] = df[\"content\"].apply(lambda x: TextBlob(x).sentiment.polarity)"
      ],
      "metadata": {
        "id": "EYVbvG9NwKPK"
      },
      "execution_count": 36,
      "outputs": []
    },
    {
      "cell_type": "code",
      "source": [
        "from sklearn.model_selection import train_test_split\n",
        "from sklearn.ensemble import RandomForestRegressor\n",
        "from sklearn.metrics import mean_squared_error\n",
        "import joblib\n",
        "\n",
        "X = df[['word_count', 'char_count', 'has_media', 'hour', 'sentiment']]\n",
        "y = df['likes']\n",
        "\n",
        "X_train, X_test, y_train, y_test = train_test_split(X, y, test_size=0.2, random_state=42)\n",
        "\n",
        "model = RandomForestRegressor(random_state=42)\n",
        "model.fit(X_train, y_train)\n",
        "\n",
        "preds = model.predict(X_test)\n",
        "rmse = mean_squared_error(y_test, preds)**0.5\n",
        "print(\"RMSE:\", rmse)"
      ],
      "metadata": {
        "colab": {
          "base_uri": "https://localhost:8080/"
        },
        "id": "XRtE3Nob0vIu",
        "outputId": "d5902bc0-28ca-465d-a79d-95597d4e9668"
      },
      "execution_count": 37,
      "outputs": [
        {
          "output_type": "stream",
          "name": "stdout",
          "text": [
            "RMSE: 3694.1616451817404\n"
          ]
        }
      ]
    },
    {
      "cell_type": "code",
      "source": [
        "from sklearn.preprocessing import OneHotEncoder\n",
        "ohe = OneHotEncoder()\n",
        "encodedMatrix = ohe.fit_transform(df[[\"day_of_week\"]])"
      ],
      "metadata": {
        "id": "a-C-a87Tt7dZ"
      },
      "execution_count": 38,
      "outputs": []
    },
    {
      "cell_type": "code",
      "source": [
        "encodedMatrix.toarray()"
      ],
      "metadata": {
        "colab": {
          "base_uri": "https://localhost:8080/"
        },
        "id": "HM6sXu5I-gxU",
        "outputId": "77e89fbc-9334-426e-f6e6-528f4014633e"
      },
      "execution_count": 39,
      "outputs": [
        {
          "output_type": "execute_result",
          "data": {
            "text/plain": [
              "array([[0., 0., 1., ..., 0., 0., 0.],\n",
              "       [0., 0., 1., ..., 0., 0., 0.],\n",
              "       [0., 0., 0., ..., 0., 1., 0.],\n",
              "       ...,\n",
              "       [0., 0., 0., ..., 1., 0., 0.],\n",
              "       [0., 1., 0., ..., 0., 0., 0.],\n",
              "       [0., 0., 0., ..., 0., 1., 0.]])"
            ]
          },
          "metadata": {},
          "execution_count": 39
        }
      ]
    },
    {
      "cell_type": "code",
      "source": [
        "ohe.get_feature_names_out()"
      ],
      "metadata": {
        "colab": {
          "base_uri": "https://localhost:8080/"
        },
        "id": "EYep4h7t-hu_",
        "outputId": "c1678239-0ea1-4f21-85b6-5bd362003f70"
      },
      "execution_count": 40,
      "outputs": [
        {
          "output_type": "execute_result",
          "data": {
            "text/plain": [
              "array(['day_of_week_Friday', 'day_of_week_Monday', 'day_of_week_Saturday',\n",
              "       'day_of_week_Sunday', 'day_of_week_Thursday',\n",
              "       'day_of_week_Tuesday', 'day_of_week_Wednesday'], dtype=object)"
            ]
          },
          "metadata": {},
          "execution_count": 40
        }
      ]
    },
    {
      "cell_type": "code",
      "source": [
        "weekdayDf = pd.DataFrame(encodedMatrix.toarray(), columns=ohe.get_feature_names_out())"
      ],
      "metadata": {
        "id": "I9jPvv0JAgx3"
      },
      "execution_count": 41,
      "outputs": []
    },
    {
      "cell_type": "code",
      "source": [
        "import math\n",
        "X = df[['word_count', 'char_count', 'has_media', 'hour', 'sentiment']]\n",
        "X = pd.concat([X, weekdayDf], axis=1)\n",
        "y = df[\"likes\"].apply(lambda x : np.log1p(x))\n",
        "\n",
        "X_train, X_test, y_train, y_test = train_test_split(X, y, test_size=0.2, random_state=42)\n",
        "\n",
        "model = RandomForestRegressor(random_state=42)\n",
        "model.fit(X_train, y_train)\n",
        "\n",
        "preds = np.expm1(model.predict(X_test))\n",
        "y_test_final = np.expm1(y_test)\n",
        "rmse = mean_squared_error(y_test_final, preds)**(0.5)\n",
        "print(\"RMSE:\", rmse)"
      ],
      "metadata": {
        "colab": {
          "base_uri": "https://localhost:8080/"
        },
        "id": "43jxDFH3Aoxs",
        "outputId": "33b85263-9874-4f76-d181-9fd5749c6ca9"
      },
      "execution_count": 42,
      "outputs": [
        {
          "output_type": "stream",
          "name": "stdout",
          "text": [
            "RMSE: 3365.9743373044985\n"
          ]
        }
      ]
    },
    {
      "cell_type": "code",
      "source": [
        "df['company_avg_likes'] = df.groupby('inferred company')['likes'].transform('mean')"
      ],
      "metadata": {
        "id": "7-dwpi2IuJa2"
      },
      "execution_count": 43,
      "outputs": []
    },
    {
      "cell_type": "code",
      "source": [
        "import math\n",
        "X = df[['word_count', 'char_count', 'has_media', 'hour', 'sentiment', 'company_avg_likes']]\n",
        "X = pd.concat([X, weekdayDf], axis=1)\n",
        "y = df[\"likes\"].apply(lambda x : np.log1p(x))\n",
        "\n",
        "X_train, X_test, y_train, y_test = train_test_split(X, y, test_size=0.2, random_state=42)\n",
        "\n",
        "model = RandomForestRegressor(random_state=42)\n",
        "model.fit(X_train, y_train)\n",
        "\n",
        "preds = np.expm1(model.predict(X_test))\n",
        "y_test_final = np.expm1(y_test)\n",
        "rmse = mean_squared_error(y_test_final, preds)**(0.5)\n",
        "print(\"RMSE:\", rmse)"
      ],
      "metadata": {
        "colab": {
          "base_uri": "https://localhost:8080/"
        },
        "id": "yV7rUaQ8u01J",
        "outputId": "e5ab54c4-db54-4605-98e4-6bb807ecd55a"
      },
      "execution_count": 51,
      "outputs": [
        {
          "output_type": "stream",
          "name": "stdout",
          "text": [
            "RMSE: 2978.35490063556\n"
          ]
        }
      ]
    },
    {
      "cell_type": "code",
      "source": [
        "import joblib\n",
        "joblib.dump(model, 'like_predictor3.pkl')"
      ],
      "metadata": {
        "colab": {
          "base_uri": "https://localhost:8080/"
        },
        "id": "U9KCGUz_gUIf",
        "outputId": "4045d440-9fca-4570-daa2-b9ff8b8ed6e7"
      },
      "execution_count": 52,
      "outputs": [
        {
          "output_type": "execute_result",
          "data": {
            "text/plain": [
              "['like_predictor3.pkl']"
            ]
          },
          "metadata": {},
          "execution_count": 52
        }
      ]
    },
    {
      "cell_type": "code",
      "source": [
        "from sklearn.feature_extraction.text import TfidfVectorizer\n",
        "\n",
        "tfidf = TfidfVectorizer(stop_words='english', max_features=1000)\n",
        "\n",
        "X_tfidf = tfidf.fit_transform(df['content'])\n"
      ],
      "metadata": {
        "id": "TpAH5Oeg-a2p"
      },
      "execution_count": 45,
      "outputs": []
    },
    {
      "cell_type": "code",
      "source": [
        "from scipy.sparse import hstack"
      ],
      "metadata": {
        "id": "ny-ti5emBVNs"
      },
      "execution_count": 46,
      "outputs": []
    },
    {
      "cell_type": "code",
      "source": [
        "import math\n",
        "X_ = df[['word_count', 'char_count', 'has_media', 'hour', 'sentiment', 'company_avg_likes']]\n",
        "X_ = pd.concat([X_, weekdayDf], axis=1)\n",
        "X_.astype(float)\n",
        "y = df[\"likes\"].apply(lambda x : np.log1p(x))\n",
        "X = pd.concat([X_, pd.DataFrame(X_tfidf.toarray(), columns=tfidf.get_feature_names_out())], axis=1)\n",
        "\n",
        "X_train, X_test, y_train, y_test = train_test_split(X, y, test_size=0.2, random_state=42)\n",
        "\n",
        "model = RandomForestRegressor(random_state=42)\n",
        "model.fit(X_train, y_train)\n",
        "\n",
        "preds = np.expm1(model.predict(X_test))\n",
        "y_test_final = np.expm1(y_test)\n",
        "rmse = mean_squared_error(y_test_final, preds)**(0.5)\n",
        "print(\"RMSE:\", rmse)"
      ],
      "metadata": {
        "colab": {
          "base_uri": "https://localhost:8080/"
        },
        "id": "AQLDBQ2jAtNy",
        "outputId": "16063b4e-a078-4b21-f2fe-606b72a96eb8"
      },
      "execution_count": 47,
      "outputs": [
        {
          "output_type": "stream",
          "name": "stdout",
          "text": [
            "RMSE: 2943.95948515631\n"
          ]
        }
      ]
    },
    {
      "cell_type": "code",
      "source": [
        "import joblib\n",
        "joblib.dump(model, 'like_predictor2.pkl')"
      ],
      "metadata": {
        "id": "gnO5K61ymWG0"
      },
      "execution_count": null,
      "outputs": []
    },
    {
      "cell_type": "code",
      "source": [],
      "metadata": {
        "id": "8T34dqAInq08"
      },
      "execution_count": null,
      "outputs": []
    }
  ]
}